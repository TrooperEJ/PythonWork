{
  "nbformat": 4,
  "nbformat_minor": 0,
  "metadata": {
    "colab": {
      "provenance": []
    },
    "kernelspec": {
      "name": "python3",
      "display_name": "Python 3"
    },
    "language_info": {
      "name": "python"
    }
  },
  "cells": [
    {
      "cell_type": "markdown",
      "source": [
        "Test Printing"
      ],
      "metadata": {
        "id": "yFFJwBzvjLTr"
      }
    },
    {
      "cell_type": "code",
      "execution_count": 2,
      "metadata": {
        "colab": {
          "base_uri": "https://localhost:8080/"
        },
        "id": "J2JvX3D_FgmU",
        "outputId": "a54778c7-2d3e-4d80-ccd5-927573c43a66"
      },
      "outputs": [
        {
          "output_type": "stream",
          "name": "stdout",
          "text": [
            "Hello, world!\n"
          ]
        }
      ],
      "source": [
        "print(\"Hello, world!\")"
      ]
    },
    {
      "cell_type": "markdown",
      "source": [
        "Name Query Test"
      ],
      "metadata": {
        "id": "GxjO1WO3kPiq"
      }
    },
    {
      "cell_type": "code",
      "source": [
        "Name = input(\"What is your name? \")\n",
        "print(\"Hello, \" + Name)"
      ],
      "metadata": {
        "colab": {
          "base_uri": "https://localhost:8080/"
        },
        "id": "5fEsKthuGBzn",
        "outputId": "79e7e6ca-d396-4b0d-b08b-f6fbaca09fbb"
      },
      "execution_count": 4,
      "outputs": [
        {
          "output_type": "stream",
          "name": "stdout",
          "text": [
            "What is your name? EJ\n",
            "Hello, EJ\n"
          ]
        }
      ]
    },
    {
      "cell_type": "markdown",
      "source": [
        "Name & Age Query Test"
      ],
      "metadata": {
        "id": "HYCm0yRpkOQZ"
      }
    },
    {
      "cell_type": "code",
      "source": [
        "FirstName, LastName, Age = input(\"What is your first name? \"), input(\"What is your last name? \"), input(\"What is your current age? \")\n",
        "print(\"Hello, \", FirstName, LastName, \"\\n Your current age is: \", Age)"
      ],
      "metadata": {
        "colab": {
          "base_uri": "https://localhost:8080/"
        },
        "id": "H04N6p3rGd0A",
        "outputId": "376fd9b5-8c6d-4f1e-e142-8f1d65ecf4f9"
      },
      "execution_count": 56,
      "outputs": [
        {
          "output_type": "stream",
          "name": "stdout",
          "text": [
            "What is your first name? EJ\n",
            "What is your last name? Sanabria\n",
            "What is your current age? 21\n",
            "Hello,  EJ Sanabria \n",
            " Your current age is:  21\n"
          ]
        }
      ]
    },
    {
      "cell_type": "markdown",
      "source": [
        "BMI Calculator"
      ],
      "metadata": {
        "id": "F7DAf-TEHt2F"
      }
    },
    {
      "cell_type": "code",
      "source": [
        "#Simple BMI Calculator\n",
        "FirstName = input(\"What is your first name? \")\n",
        "LastName = input(\"What is your last name? \")\n",
        "Age = input(\"What is your current age? \")\n",
        "Weight = int(input(\"What is your current weight? \"))\n",
        "Height = int(input(\"What is your height(in inches)? \"))\n",
        "\n",
        "# To calculate BMI correctly for height in meters, make sure to convert height from centimeters to meters\n",
        "BMI = (Weight / (Height)**2) * 703\n",
        "#BMI = float(BMI)\n",
        "\n",
        "print(\"Hello,\", FirstName, LastName)\n",
        "print(\"Your current age is:\", Age)\n",
        "print(\"Your current BMI is:\", round(BMI, 2))\n"
      ],
      "metadata": {
        "colab": {
          "base_uri": "https://localhost:8080/"
        },
        "id": "ysCBfyWuH0Px",
        "outputId": "215890b3-4cce-4262-d170-029d38a96ccc"
      },
      "execution_count": 55,
      "outputs": [
        {
          "output_type": "stream",
          "name": "stdout",
          "text": [
            "What is your first name? EJ\n",
            "What is your last name? Sanabria\n",
            "What is your current age? 21\n",
            "What is your current weight? 130\n",
            "What is your height(in inches)? 72\n",
            "Hello, EJ Sanabria\n",
            "Your current age is: 21\n",
            "Your current BMI is: 17.63\n"
          ]
        }
      ]
    },
    {
      "cell_type": "markdown",
      "source": [
        "Test Checker using El-If Statements"
      ],
      "metadata": {
        "id": "Na3oA_8VN_x7"
      }
    },
    {
      "cell_type": "code",
      "source": [
        "#Basic test checker program\n",
        "#Get user test score\n",
        "Score = int(input(\"Please enter your test score: \"))\n",
        "if Score > 100:\n",
        "  print(\"Error, this score is greater than 100\")\n",
        "elif Score == 100:\n",
        "  print(\"You have an A++\")\n",
        "elif Score <= 99 and Score >= 97:\n",
        "  print(\"You have an A+\")\n",
        "elif Score <= 96 and Score >= 94:\n",
        "  print(\"You have an A\")\n",
        "elif Score <= 93 and Score >= 90:\n",
        "  print(\"You have an A-\")\n",
        "elif Score <= 89 and Score >= 87:\n",
        "  print(\"You have a B+\")\n",
        "elif Score <= 86 and Score >= 84:\n",
        "  print(\"You have a B\")\n",
        "elif Score <= 83 and Score >= 80:\n",
        "  print(\"You have a B-\")\n",
        "elif Score <= 79 and Score >= 77:\n",
        "  print(\"You have a C+\")\n",
        "elif Score <= 76 and Score >= 74:\n",
        "  print(\"You have a C\")\n",
        "elif Score <= 73 and Score >= 70:\n",
        "  print(\"You have a C-\")\n",
        "elif Score <= 69 and Score >= 65:\n",
        "  print(\"You have a D+\")\n",
        "elif Score <= 64 and Score >= 0:\n",
        "  print(\"You failed! \")\n",
        "elif Score < 0:\n",
        "  print(\"Error, this score is less than 0\")\n",
        "else:\n",
        "  print(\"Try again\")\n",
        "\n",
        "print(\"Thanks for participating!\")"
      ],
      "metadata": {
        "colab": {
          "base_uri": "https://localhost:8080/"
        },
        "id": "HzXVALRQN7II",
        "outputId": "034000eb-6a72-41bd-a404-81ed144744a4"
      },
      "execution_count": 36,
      "outputs": [
        {
          "output_type": "stream",
          "name": "stdout",
          "text": [
            "Please enter your test score: 87\n",
            "You have a B+\n",
            "Thanks for participating!\n"
          ]
        }
      ]
    },
    {
      "cell_type": "markdown",
      "source": [
        "Same program as above using an Error Catcher"
      ],
      "metadata": {
        "id": "VW-C__XAkoH2"
      }
    },
    {
      "cell_type": "code",
      "source": [
        "#Basic test checker program with error handling\n",
        "#Get user test score\n",
        "\n",
        "while True:\n",
        "    try:\n",
        "        Score = int(input(\"Please enter your test score: \"))\n",
        "        # Exit if true\n",
        "        break\n",
        "    except ValueError:\n",
        "        print(\"The input was not a valid number.\")\n",
        "\n",
        "#Get user test score\n",
        "if Score > 100:\n",
        "  print(\"Error, this score is greater than 100\")\n",
        "elif Score == 100:\n",
        "  print(\"You have an A++\")\n",
        "elif Score <= 99 and Score >= 97:\n",
        "  print(\"You have an A+\")\n",
        "elif Score <= 96 and Score >= 94:\n",
        "  print(\"You have an A\")\n",
        "elif Score <= 93 and Score >= 90:\n",
        "  print(\"You have an A-\")\n",
        "elif Score <= 89 and Score >= 87:\n",
        "  print(\"You have a B+\")\n",
        "elif Score <= 86 and Score >= 84:\n",
        "  print(\"You have a B\")\n",
        "elif Score <= 83 and Score >= 80:\n",
        "  print(\"You have a B-\")\n",
        "elif Score <= 79 and Score >= 77:\n",
        "  print(\"You have a C+\")\n",
        "elif Score <= 76 and Score >= 74:\n",
        "  print(\"You have a C\")\n",
        "elif Score <= 73 and Score >= 70:\n",
        "  print(\"You have a C-\")\n",
        "elif Score <= 69 and Score >= 65:\n",
        "  print(\"You have a D+\")\n",
        "elif Score <= 64 and Score >= 0:\n",
        "  print(\"You failed! \")\n",
        "elif Score < 0:\n",
        "  print(\"Error, this score is less than 0\")\n",
        "else:\n",
        "  print(\"Try again\")\n",
        "\n",
        "print(\"Thanks for participating!\")"
      ],
      "metadata": {
        "colab": {
          "base_uri": "https://localhost:8080/"
        },
        "id": "S1bElDZxbvqi",
        "outputId": "241dea61-9056-46c1-b058-1448cf240d0d"
      },
      "execution_count": 50,
      "outputs": [
        {
          "output_type": "stream",
          "name": "stdout",
          "text": [
            "Please enter your test score: 93\n",
            "You have an A-\n",
            "Thanks for participating!\n"
          ]
        }
      ]
    }
  ]
}